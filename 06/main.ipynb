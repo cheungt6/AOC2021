{
 "cells": [
  {
   "cell_type": "code",
   "execution_count": 46,
   "id": "b1244760",
   "metadata": {},
   "outputs": [],
   "source": [
    "with open('input', 'r') as f:\n",
    "    line = f.readline()\n",
    "    inputs = [int(x) for x in line.split(\",\")]"
   ]
  },
  {
   "cell_type": "code",
   "execution_count": 45,
   "id": "f8998b68",
   "metadata": {},
   "outputs": [
    {
     "data": {
      "text/plain": [
       "1639643057051"
      ]
     },
     "execution_count": 45,
     "metadata": {},
     "output_type": "execute_result"
    }
   ],
   "source": [
    "# part 1\n",
    "# days = 256\n",
    "# part 2\n",
    "days = 256\n",
    "count = [0]*9\n",
    "for f in inputs:\n",
    "    count[f] += 1\n",
    "\n",
    "for i in range(days):\n",
    "    reset = count[0]\n",
    "    count.pop(0)\n",
    "    count.append(reset)\n",
    "    count[6] += reset\n",
    "    \n",
    "sum(count)"
   ]
  }
 ],
 "metadata": {
  "kernelspec": {
   "display_name": "Python 3",
   "language": "python",
   "name": "python3"
  },
  "language_info": {
   "codemirror_mode": {
    "name": "ipython",
    "version": 3
   },
   "file_extension": ".py",
   "mimetype": "text/x-python",
   "name": "python",
   "nbconvert_exporter": "python",
   "pygments_lexer": "ipython3",
   "version": "3.8.0"
  }
 },
 "nbformat": 4,
 "nbformat_minor": 5
}
