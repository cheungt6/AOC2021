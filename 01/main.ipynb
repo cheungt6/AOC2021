{
 "cells": [
  {
   "cell_type": "code",
   "execution_count": 6,
   "id": "743aaf20",
   "metadata": {},
   "outputs": [
    {
     "data": {
      "text/plain": [
       "1766"
      ]
     },
     "execution_count": 6,
     "metadata": {},
     "output_type": "execute_result"
    }
   ],
   "source": [
    "prev = None\n",
    "curr = None\n",
    "count = 0\n",
    "with open('input', 'r') as f:\n",
    "    line = f.readline()\n",
    "    while line:\n",
    "        curr = int(line)\n",
    "        if prev is not None:\n",
    "            if curr > prev:\n",
    "                count += 1\n",
    "        prev = curr\n",
    "        line = f.readline()\n",
    "count"
   ]
  }
 ],
 "metadata": {
  "kernelspec": {
   "display_name": "Python 3",
   "language": "python",
   "name": "python3"
  },
  "language_info": {
   "codemirror_mode": {
    "name": "ipython",
    "version": 3
   },
   "file_extension": ".py",
   "mimetype": "text/x-python",
   "name": "python",
   "nbconvert_exporter": "python",
   "pygments_lexer": "ipython3",
   "version": "3.8.0"
  }
 },
 "nbformat": 4,
 "nbformat_minor": 5
}
