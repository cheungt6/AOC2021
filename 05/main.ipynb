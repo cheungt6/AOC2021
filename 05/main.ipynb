{
 "cells": [
  {
   "cell_type": "code",
   "execution_count": 134,
   "id": "0b0a7578",
   "metadata": {},
   "outputs": [],
   "source": [
    "class co_ord(object):\n",
    "    def __init__(self, x: int, y:int):\n",
    "        self.x = x\n",
    "        self.y = y\n",
    "        \n",
    "    def key(self) -> str:\n",
    "        return (self.x , self.y)\n",
    "    \n",
    "    def __repr__(self):\n",
    "        return f\"{self.x},{self.y}\"\n",
    "    \n",
    "class line(object):\n",
    "    def __init__(self, s_x:int, s_y:int, e_x:int, e_y:int):\n",
    "        self.start = co_ord(s_x, s_y)\n",
    "        self.end = co_ord(e_x, e_y)\n",
    "        \n",
    "        self.points = []\n",
    "        if s_x == e_x:\n",
    "            for i in range(min(s_y, e_y), max(s_y, e_y)+1):\n",
    "                self.points.append(co_ord(s_x, i))\n",
    "        elif s_y == e_y:\n",
    "            for i in range(min(s_x, e_x), max(s_x, e_x)+1):\n",
    "                self.points.append(co_ord(i, s_y))\n",
    "        else:\n",
    "            x_step = 1 if e_x > s_x else -1\n",
    "            y_step = 1 if e_y > s_y else -1\n",
    "            for i in range(abs(s_x-e_x)+1):\n",
    "                self.points.append(co_ord(s_x+(i*x_step), s_y+(i*y_step)))\n",
    "        #print(self.points)\n",
    "        \n",
    "    def __repr__(self):\n",
    "        return f\"{self.start.x},{self.start.y} -> {self.end.x},{self.end.y}\"\n",
    "        "
   ]
  },
  {
   "cell_type": "code",
   "execution_count": 146,
   "id": "9ae24c22",
   "metadata": {},
   "outputs": [],
   "source": [
    "lines = []\n",
    "with open('input', 'r') as f:\n",
    "    s = f.readline()\n",
    "    while s:\n",
    "        parts = s.split(\" -> \")\n",
    "        start = parts[0].strip().split(\",\")\n",
    "        end = parts[1].strip().split(\",\")\n",
    "        s_x = int(start[0])\n",
    "        s_y = int(start[1])\n",
    "        e_x = int(end[0])\n",
    "        e_y = int(end[1])\n",
    "        \n",
    "        if (start[0] == end[0]) or (start[1] == end[1]) \\\n",
    "            or (abs(s_x-e_x)==abs(s_y-e_y)): # part 2 \n",
    "            l = line(s_x, s_y, e_x, e_y)\n",
    "            #print(l)\n",
    "            lines.append(l)\n",
    "        s = f.readline()"
   ]
  },
  {
   "cell_type": "code",
   "execution_count": 147,
   "id": "df093ca9",
   "metadata": {},
   "outputs": [],
   "source": [
    "map = {}\n",
    "for l in lines:\n",
    "    for point in l.points:\n",
    "        if point.key() not in map:\n",
    "            map[point.key()] = 0\n",
    "        map[point.key()] += 1\n",
    "        "
   ]
  },
  {
   "cell_type": "code",
   "execution_count": 148,
   "id": "49c351e5",
   "metadata": {},
   "outputs": [
    {
     "data": {
      "text/plain": [
       "21373"
      ]
     },
     "execution_count": 148,
     "metadata": {},
     "output_type": "execute_result"
    }
   ],
   "source": [
    "count = 0\n",
    "for (k, v) in map.items():\n",
    "    if v > 1:\n",
    "        #print (f\"{k}: {v}\")\n",
    "        count += 1\n",
    "        \n",
    "count"
   ]
  }
 ],
 "metadata": {
  "kernelspec": {
   "display_name": "Python 3",
   "language": "python",
   "name": "python3"
  },
  "language_info": {
   "codemirror_mode": {
    "name": "ipython",
    "version": 3
   },
   "file_extension": ".py",
   "mimetype": "text/x-python",
   "name": "python",
   "nbconvert_exporter": "python",
   "pygments_lexer": "ipython3",
   "version": "3.8.0"
  }
 },
 "nbformat": 4,
 "nbformat_minor": 5
}
