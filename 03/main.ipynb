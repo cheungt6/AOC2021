{
 "cells": [
  {
   "cell_type": "code",
   "execution_count": 10,
   "id": "391f64af",
   "metadata": {},
   "outputs": [
    {
     "name": "stdout",
     "output_type": "stream",
     "text": [
      "[512, 501, 498, 517, 479, 484, 484, 505, 486, 501, 491, 512]\n",
      "500.0\n"
     ]
    }
   ],
   "source": [
    "# part 1\n",
    "with open('input', 'r') as f:\n",
    "    line = f.readline()\n",
    "    bits = len(line.strip())\n",
    "    result = [0] * bits\n",
    "    bytes = 0\n",
    "    while line:\n",
    "        bytes += 1\n",
    "        for i in range(bits):\n",
    "            if line[i] == \"1\":\n",
    "                result[i] += 1\n",
    "        line = f.readline()\n",
    "    print(result)"
   ]
  },
  {
   "cell_type": "code",
   "execution_count": 14,
   "id": "641473e1",
   "metadata": {},
   "outputs": [
    {
     "name": "stdout",
     "output_type": "stream",
     "text": [
      "3349\n",
      "746\n",
      "2498354\n"
     ]
    }
   ],
   "source": [
    "threshold = bytes /2\n",
    "gamma = int(\"\".join([\"1\" if x > threshold else \"0\" for x in result]), 2)\n",
    "epsilon = int(\"\".join([\"1\" if x <= threshold else \"0\" for x in result]), 2)\n",
    "print(gamma)\n",
    "print(epsilon)\n",
    "print(gamma * epsilon)"
   ]
  },
  {
   "cell_type": "code",
   "execution_count": 16,
   "id": "eee6fa13",
   "metadata": {},
   "outputs": [],
   "source": [
    "# part 2\n",
    "class node(object):\n",
    "    def __init__(self):\n",
    "        self.x1 = None\n",
    "        self.x0 = None\n",
    "        self.count = 0\n",
    "        \n",
    "    def push(self, children: str):\n",
    "        if children[0] == \"1\":\n",
    "            self.x1.count += 1\n",
    "        else:            \n",
    "            self.x0.count += 1\n",
    "            \n",
    "        if len(children) > 1:\n",
    "            if children[0] == \"1\":\n",
    "                self.x1.push(children[1:])\n",
    "            else:\n",
    "                self.x0.push(children[1:])\n",
    "                \n",
    "        \n",
    "root = node()\n",
    "def populate(n: node, i: int, depth: int):\n",
    "    if i > depth:\n",
    "        return\n",
    "    n.x1 = node()\n",
    "    n.x0 = node()\n",
    "    populate(n.x1, i+1, depth)\n",
    "    populate(n.x0, i+1, depth)\n",
    "        \n",
    "with open('input', 'r') as f:\n",
    "    line = f.readline()\n",
    "    bits = len(line.strip())\n",
    "    populate(root, 0, bits)\n",
    "    \n",
    "    while line:\n",
    "        root.push(line)\n",
    "        line = f.readline()\n"
   ]
  },
  {
   "cell_type": "code",
   "execution_count": 18,
   "id": "b35f13d0",
   "metadata": {},
   "outputs": [
    {
     "name": "stdout",
     "output_type": "stream",
     "text": [
      "x1:512 x0:488\n",
      "x1:256 x0:256\n",
      "x1:143 x0:113\n",
      "x1:72 x0:71\n",
      "x1:33 x0:39\n",
      "x1:20 x0:19\n",
      "x1:8 x0:12\n",
      "x1:6 x0:6\n",
      "x1:2 x0:4\n",
      "x1:1 x0:3\n",
      "x1:1 x0:2\n",
      "x1:1 x0:1\n",
      "['1', '1', '1', '1', '0', '1', '0', '1', '0', '0', '0', '1']\n",
      "3921\n",
      "x1:0 x0:1\n",
      "x1:0 x0:1\n",
      "x1:0 x0:1\n",
      "x1:0 x0:1\n",
      "x1:0 x0:1\n",
      "x1:0 x0:1\n",
      "x1:0 x0:1\n",
      "x1:0 x0:1\n",
      "x1:0 x0:1\n",
      "x1:0 x0:1\n",
      "x1:0 x0:1\n",
      "x1:0 x0:1\n",
      "['0', '0', '1', '1', '0', '1', '0', '0', '0', '1', '0', '0']\n",
      "836\n"
     ]
    }
   ],
   "source": [
    "o2_root = root\n",
    "o2 = []\n",
    "counter = 0\n",
    "while counter < bits:\n",
    "    print(f'x1:{o2_root.x1.count} x0:{o2_root.x0.count}')\n",
    "    if (o2_root.x1.count == o2_root.x0.count):\n",
    "        o2.append(\"1\")\n",
    "        o2_root = o2_root.x1\n",
    "    elif (o2_root.x1.count > 0 and o2_root.x0.count == 0):\n",
    "        o2.append(\"1\")\n",
    "        o2_root = co2_root.x1\n",
    "    elif (o2_root.x1.count == 0 and o2_root.x0.count > 0):\n",
    "        o2.append(\"0\")\n",
    "        o2_root = o2_root.x0\n",
    "    elif o2_root.x1.count >= o2_root.x0.count:\n",
    "        o2.append(\"1\")\n",
    "        o2_root = o2_root.x1\n",
    "    else:\n",
    "        o2.append(\"0\")\n",
    "        o2_root = o2_root.x0\n",
    "    counter += 1\n",
    "    \n",
    "print (o2)\n",
    "print(int(''.join(o2), 2))\n",
    "\n",
    "\n",
    "co2_root = root\n",
    "co2 = []\n",
    "counter = 0\n",
    "while counter < bits:\n",
    "    print(f'x1:{o2_root.x1.count} x0:{o2_root.x0.count}')\n",
    "    if (co2_root.x1.count == co2_root.x0.count):\n",
    "        co2.append(\"0\")\n",
    "        co2_root = co2_root.x0\n",
    "    elif (co2_root.x1.count > 0 and co2_root.x0.count == 0):\n",
    "        co2.append(\"1\")\n",
    "        co2_root = co2_root.x1\n",
    "    elif (co2_root.x1.count == 0 and co2_root.x0.count > 0):\n",
    "        co2.append(\"0\")\n",
    "        co2_root = co2_root.x0\n",
    "    elif co2_root.x1.count >= co2_root.x0.count:\n",
    "        co2.append(\"0\")\n",
    "        co2_root = co2_root.x0\n",
    "    else:\n",
    "        co2.append(\"1\")\n",
    "        co2_root = co2_root.x1\n",
    "    counter += 1\n",
    "\n",
    "print (co2)\n",
    "\n",
    "print(int(''.join(co2), 2))"
   ]
  },
  {
   "cell_type": "code",
   "execution_count": 19,
   "id": "fdab8a9b",
   "metadata": {},
   "outputs": [
    {
     "name": "stdout",
     "output_type": "stream",
     "text": [
      "3277956\n"
     ]
    }
   ],
   "source": [
    "print(3921*836)"
   ]
  }
 ],
 "metadata": {
  "kernelspec": {
   "display_name": "Python 3",
   "language": "python",
   "name": "python3"
  },
  "language_info": {
   "codemirror_mode": {
    "name": "ipython",
    "version": 3
   },
   "file_extension": ".py",
   "mimetype": "text/x-python",
   "name": "python",
   "nbconvert_exporter": "python",
   "pygments_lexer": "ipython3",
   "version": "3.8.0"
  }
 },
 "nbformat": 4,
 "nbformat_minor": 5
}
