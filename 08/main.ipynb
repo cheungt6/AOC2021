{
 "cells": [
  {
   "cell_type": "code",
   "execution_count": 24,
   "id": "f592685f",
   "metadata": {},
   "outputs": [
    {
     "data": {
      "text/plain": [
       "0"
      ]
     },
     "execution_count": 24,
     "metadata": {},
     "output_type": "execute_result"
    }
   ],
   "source": [
    "count = 0\n",
    "with open('input', 'r') as f:\n",
    "    line = f.readline()\n",
    "    while line:\n",
    "        inputs = (line.split(\" | \")[1].strip()).split(\" \")\n",
    "        count += sum([1 for x in inputs if len(x) in (7, 4, 3, 2)])\n",
    "        line = f.readline()\n",
    "count"
   ]
  },
  {
   "cell_type": "code",
   "execution_count": 59,
   "id": "de5c3709",
   "metadata": {},
   "outputs": [],
   "source": [
    "def try_decode(numbers:[], values:[]) -> int:\n",
    "    value_dict = {}\n",
    "    could_be_0_6_9 = []\n",
    "    could_be_2_3_5 = []\n",
    "    for n in numbers:\n",
    "        if len(n) == 2:\n",
    "            value_dict[1] = n\n",
    "        elif len(n) == 7:\n",
    "            value_dict[8] = n\n",
    "        elif len(n) == 3:\n",
    "            value_dict[7] = n\n",
    "        elif len(n) == 4:\n",
    "            value_dict[4] = n\n",
    "        elif len(n) == 5:\n",
    "            could_be_2_3_5.append(n)\n",
    "        elif len(n) == 6:\n",
    "            could_be_0_6_9.append(n)\n",
    "        else:\n",
    "            print(n)\n",
    "    value_dict[6] = [x for x in could_be_0_6_9 if not all(i in x for i in  value_dict[1])][0]\n",
    "    could_be_0_6_9.remove(value_dict[6])\n",
    "    value_dict[3] = [x for x in could_be_2_3_5 if all(i in x for i in  value_dict[1])][0]\n",
    "    could_be_2_3_5.remove(value_dict[3])\n",
    "    value_dict[9] = [x for x in could_be_0_6_9 if all(i in x for i in  value_dict[3])][0]\n",
    "    could_be_0_6_9.remove(value_dict[9])\n",
    "    value_dict[0] = could_be_0_6_9[0]\n",
    "    n9 = value_dict[9]\n",
    "    if sum([1 for x in could_be_2_3_5[0] if x in n9]) == 5:\n",
    "        value_dict[5] = could_be_2_3_5[0]\n",
    "        value_dict[2] = could_be_2_3_5[1]\n",
    "    else:\n",
    "        value_dict[2] = could_be_2_3_5[0]\n",
    "        value_dict[5] = could_be_2_3_5[1]\n",
    "\n",
    "    \n",
    "    lookup = dict((v,k) for k,v in value_dict.items())\n",
    "    lookup\n",
    "        \n",
    "    return int(\"\".join([str(lookup[x]) for x in values]))\n",
    "            "
   ]
  },
  {
   "cell_type": "code",
   "execution_count": 61,
   "id": "d755cad1",
   "metadata": {},
   "outputs": [
    {
     "data": {
      "text/plain": [
       "1027422"
      ]
     },
     "execution_count": 61,
     "metadata": {},
     "output_type": "execute_result"
    }
   ],
   "source": [
    "\n",
    "count = 0\n",
    "with open('input', 'r') as f:\n",
    "    line = f.readline()\n",
    "    while line:\n",
    "        parts = line.strip().split(\" | \")\n",
    "        values = [\"\".join(sorted(x)) for x in parts[1].split(\" \")]\n",
    "        numbers = [\"\".join(sorted(x)) for x in parts[0].split(\" \")] + values\n",
    "        value = try_decode(numbers, values)\n",
    "        count += value\n",
    "        line = f.readline()\n",
    "count"
   ]
  }
 ],
 "metadata": {
  "kernelspec": {
   "display_name": "Python 3",
   "language": "python",
   "name": "python3"
  },
  "language_info": {
   "codemirror_mode": {
    "name": "ipython",
    "version": 3
   },
   "file_extension": ".py",
   "mimetype": "text/x-python",
   "name": "python",
   "nbconvert_exporter": "python",
   "pygments_lexer": "ipython3",
   "version": "3.8.0"
  }
 },
 "nbformat": 4,
 "nbformat_minor": 5
}
