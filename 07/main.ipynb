{
 "cells": [
  {
   "cell_type": "code",
   "execution_count": 59,
   "id": "ea7c9d6f",
   "metadata": {},
   "outputs": [],
   "source": [
    "with open('input', 'r') as f:\n",
    "    line = f.readline()\n",
    "    inputs = [int(x) for x in line.split(\",\")]"
   ]
  },
  {
   "cell_type": "code",
   "execution_count": 32,
   "id": "fa964ddb",
   "metadata": {},
   "outputs": [
    {
     "data": {
      "text/plain": [
       "37.0"
      ]
     },
     "execution_count": 32,
     "metadata": {},
     "output_type": "execute_result"
    }
   ],
   "source": [
    "from statistics import median\n",
    "# part 1\n",
    "target = median(inputs)\n",
    "\n",
    "total = 0\n",
    "for i in inputs:\n",
    "    total += abs(target - i)\n",
    "    \n",
    "total"
   ]
  },
  {
   "cell_type": "code",
   "execution_count": 62,
   "id": "f58461e2",
   "metadata": {},
   "outputs": [
    {
     "data": {
      "text/plain": [
       "96086306.0"
      ]
     },
     "execution_count": 62,
     "metadata": {},
     "output_type": "execute_result"
    }
   ],
   "source": [
    "from math import ceil, floor\n",
    "# part 2\n",
    "#target = ceil(sum(inputs) / len(inputs))\n",
    "target = floor(sum(inputs) / len(inputs))\n",
    "\n",
    "\n",
    "total = 0\n",
    "for i in inputs:\n",
    "    total += ((abs(target - i)*(abs(target - i)+1)) /2)\n",
    "    \n",
    "total"
   ]
  }
 ],
 "metadata": {
  "kernelspec": {
   "display_name": "Python 3",
   "language": "python",
   "name": "python3"
  },
  "language_info": {
   "codemirror_mode": {
    "name": "ipython",
    "version": 3
   },
   "file_extension": ".py",
   "mimetype": "text/x-python",
   "name": "python",
   "nbconvert_exporter": "python",
   "pygments_lexer": "ipython3",
   "version": "3.8.0"
  }
 },
 "nbformat": 4,
 "nbformat_minor": 5
}
