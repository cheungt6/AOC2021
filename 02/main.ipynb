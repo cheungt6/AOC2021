{
 "cells": [
  {
   "cell_type": "code",
   "execution_count": 30,
   "id": "d35df07f",
   "metadata": {},
   "outputs": [],
   "source": [
    "# part 1\n",
    "class position(object):\n",
    "        def __init__(self):\n",
    "            self.depth = 0\n",
    "            self.horizontal = 0\n",
    "            self.line = \"\"\n",
    "            \n",
    "class move(object):\n",
    "    def __init__(self, line: str):\n",
    "        self.line = line.split(\" \")\n",
    "        self.direction = self.line[0]\n",
    "        self.delta = int(self.line[1])\n",
    "    \n",
    "    def move(self, p: position):\n",
    "        if self.direction == \"forward\":\n",
    "            p.horizontal += self.delta\n",
    "        elif self.direction == \"down\":\n",
    "            p.depth += self.delta\n",
    "        elif self.direction == \"up\":\n",
    "            p.depth -= self.delta\n",
    "        else:\n",
    "            print(self.line)\n",
    "            "
   ]
  },
  {
   "cell_type": "code",
   "execution_count": 32,
   "id": "704b7166",
   "metadata": {},
   "outputs": [],
   "source": [
    "with open('input', 'r') as f:\n",
    "    p = position()\n",
    "    line = f.readline()\n",
    "    while line:\n",
    "        this_move = move(line)\n",
    "        this_move.move(p)\n",
    "        line = f.readline()\n"
   ]
  },
  {
   "cell_type": "code",
   "execution_count": 34,
   "id": "014266a1",
   "metadata": {},
   "outputs": [
    {
     "name": "stdout",
     "output_type": "stream",
     "text": [
      "1017\n",
      "1906\n"
     ]
    },
    {
     "data": {
      "text/plain": [
       "1938402"
      ]
     },
     "execution_count": 34,
     "metadata": {},
     "output_type": "execute_result"
    }
   ],
   "source": [
    "print(p.depth)\n",
    "print(p.horizontal)\n",
    "p.depth * p.horizontal"
   ]
  },
  {
   "cell_type": "code",
   "execution_count": 47,
   "id": "24d18afc",
   "metadata": {},
   "outputs": [],
   "source": [
    "# part 2\n",
    "class position_with_aim(object):\n",
    "        def __init__(self):\n",
    "            self.depth = 0\n",
    "            self.horizontal = 0\n",
    "            self.aim = 0\n",
    "            self.line = \"\"\n",
    "            \n",
    "class move_with_aim(object):\n",
    "    def __init__(self, line: str):\n",
    "        self.line = line.split(\" \")\n",
    "        self.direction = self.line[0]\n",
    "        self.delta = int(self.line[1])\n",
    "    \n",
    "    def move(self, p: position_with_aim):\n",
    "        if self.direction == \"forward\":\n",
    "            p.horizontal += self.delta\n",
    "            p.depth += p.aim * self.delta\n",
    "        elif self.direction == \"down\":\n",
    "            p.aim += self.delta\n",
    "        elif self.direction == \"up\":\n",
    "            p.aim -= self.delta\n",
    "        else:\n",
    "            print(self.line)\n",
    "            "
   ]
  },
  {
   "cell_type": "code",
   "execution_count": 48,
   "id": "276a41c8",
   "metadata": {},
   "outputs": [],
   "source": [
    "with open('input', 'r') as f:\n",
    "    p = position_with_aim()\n",
    "    line = f.readline()\n",
    "    while line:\n",
    "        this_move = move_with_aim(line)\n",
    "        this_move.move(p)\n",
    "        line = f.readline()"
   ]
  },
  {
   "cell_type": "code",
   "execution_count": 49,
   "id": "8ecdcce1",
   "metadata": {},
   "outputs": [
    {
     "name": "stdout",
     "output_type": "stream",
     "text": [
      "1021972\n",
      "1906\n"
     ]
    },
    {
     "data": {
      "text/plain": [
       "1947878632"
      ]
     },
     "execution_count": 49,
     "metadata": {},
     "output_type": "execute_result"
    }
   ],
   "source": [
    "print(p.depth)\n",
    "print(p.horizontal)\n",
    "p.depth * p.horizontal"
   ]
  }
 ],
 "metadata": {
  "kernelspec": {
   "display_name": "Python 3",
   "language": "python",
   "name": "python3"
  },
  "language_info": {
   "codemirror_mode": {
    "name": "ipython",
    "version": 3
   },
   "file_extension": ".py",
   "mimetype": "text/x-python",
   "name": "python",
   "nbconvert_exporter": "python",
   "pygments_lexer": "ipython3",
   "version": "3.8.0"
  }
 },
 "nbformat": 4,
 "nbformat_minor": 5
}
